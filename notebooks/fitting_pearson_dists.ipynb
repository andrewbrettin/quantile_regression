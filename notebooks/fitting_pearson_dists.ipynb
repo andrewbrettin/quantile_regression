{
 "cells": [
  {
   "cell_type": "markdown",
   "metadata": {},
   "source": [
    "# Pearson distributions\n",
    "This notebook computes the parameters for the kurtosis distribution for McKinnon et al 2016"
   ]
  },
  {
   "cell_type": "code",
   "execution_count": 1,
   "metadata": {},
   "outputs": [],
   "source": [
    "import numpy as np\n",
    "import scipy as sc\n",
    "import matplotlib.pyplot as plt\n",
    "from scipy.stats import rv_continuous, norm, beta"
   ]
  },
  {
   "cell_type": "code",
   "execution_count": 2,
   "metadata": {},
   "outputs": [],
   "source": [
    "def pearson_coeffs(mu1, mu2, mu3, mu4):\n",
    "    # Given moments, returns the coefficients of the Pearson ODE\n",
    "    # Assumes symmetric distribution (mean 0 skew 0)\n",
    "    a = 0\n",
    "    b1 = 0\n",
    "    b0 = 1/2 * mu2 * (3*mu3**2 - 4*mu2*mu4) / (9*mu2**3 + 6*mu3**2 - 5*mu2*mu4)\n",
    "    b2 = 1/2 * (6*mu2**3 + 3*mu3**2 - 2*mu2*mu4) / (9 * mu2**3 + 6 * mu3**2 - 5 * mu2 * mu4)\n",
    "\n",
    "    return a, b0, b1, b2"
   ]
  },
  {
   "cell_type": "markdown",
   "metadata": {},
   "source": [
    "## Start distribution"
   ]
  },
  {
   "cell_type": "code",
   "execution_count": 3,
   "metadata": {},
   "outputs": [
    {
     "name": "stdout",
     "output_type": "stream",
     "text": [
      "0 4.0 0 -1.0\n"
     ]
    }
   ],
   "source": [
    "# Start distribution\n",
    "mu1 = 0\n",
    "mu2 = 1\n",
    "mu3 = 0\n",
    "mu4 = 2\n",
    "\n",
    "a, b0, b1, b2 = pearson_coeffs(mu1, mu2, mu3, mu4)\n",
    "print(a, b0, b1, b2)"
   ]
  },
  {
   "cell_type": "markdown",
   "metadata": {},
   "source": [
    "Fit distribution to parameters"
   ]
  },
  {
   "cell_type": "code",
   "execution_count": 4,
   "metadata": {},
   "outputs": [
    {
     "data": {
      "text/plain": [
       "Text(0.5, 1.0, 'PDF of Pearson I distribution')"
      ]
     },
     "execution_count": 4,
     "metadata": {},
     "output_type": "execute_result"
    },
    {
     "data": {
      "image/png": "[encoded data removed]",
      "text/plain": [
       "<Figure size 432x288 with 1 Axes>"
      ]
     },
     "metadata": {
      "needs_background": "light"
     },
     "output_type": "display_data"
    }
   ],
   "source": [
    "a1 = (-b1 - np.sqrt(b1**2 - 4*b2*b0)) / (2*b2)\n",
    "a2 = (-b1 + np.sqrt(b1**2 - 4*b2*b0)) / (2*b2)\n",
    "\n",
    "nu = 1 / (b2 * (a1 - a2))\n",
    "m1 = nu * (a - a1)\n",
    "m2 = -nu * (a - a2)\n",
    "lam = mu1 - (a2 - a1) * (m1 + 1) / (m1 + m2 + 2) - a1\n",
    "\n",
    "from scipy.stats import beta\n",
    "qs = np.arange(0.01, 1.00, 0.01)\n",
    "quantiles = beta.ppf(qs, a=m1+1, b=m2+1, loc=-lam-a1, scale=a1-a2)\n",
    "\n",
    "plt.plot(quantiles, beta.pdf(quantiles, a=m1+1, b=m2+1, loc=-lam-a1, scale=a1-a2))\n",
    "plt.title('PDF of Pearson I distribution')"
   ]
  },
  {
   "cell_type": "markdown",
   "metadata": {},
   "source": [
    "This distribution is engineered to have mean 0, variance 1, skewness 0, and (excess) kurtosis -1:"
   ]
  },
  {
   "cell_type": "code",
   "execution_count": 5,
   "metadata": {},
   "outputs": [
    {
     "data": {
      "text/plain": [
       "(array(0.), array(1.), array(0.), array(-1.))"
      ]
     },
     "execution_count": 5,
     "metadata": {},
     "output_type": "execute_result"
    }
   ],
   "source": [
    "beta.stats(a=m1+1, b=m2+1, loc=-lam-a1, scale=a1-a2, moments='mvsk')"
   ]
  },
  {
   "cell_type": "markdown",
   "metadata": {},
   "source": [
    "## End distribution (higher kurtosis)"
   ]
  },
  {
   "cell_type": "code",
   "execution_count": 12,
   "metadata": {},
   "outputs": [
    {
     "name": "stdout",
     "output_type": "stream",
     "text": [
      "0 0.7272727272727273 0 0.09090909090909091\n"
     ]
    }
   ],
   "source": [
    "mu1 = 0\n",
    "mu2 = 1\n",
    "mu3 = 0\n",
    "mu4 = 4\n",
    "a, b0, b1, b2 = pearson_coeffs(mu1, mu2, mu3, mu4) # b0 = 8/11, b2 = 1/11\n",
    "print(a, b0, b1, b2)"
   ]
  },
  {
   "cell_type": "code",
   "execution_count": 13,
   "metadata": {},
   "outputs": [
    {
     "name": "stdout",
     "output_type": "stream",
     "text": [
      "2.8284271247461903 5.5 -0.0 0.0\n"
     ]
    }
   ],
   "source": [
    "# Distribution parameters\n",
    "\n",
    "alpha = np.sqrt(4*b2*b0 - b1**2) / (2 * b2)\n",
    "m = 1 / (2*b2)\n",
    "nu = -1 * (2*b2*a - b1) / (2*b2**2 * alpha)\n",
    "lam0 = 0 # lam0 = b1 / (2 * b2)\n",
    "lam = lam0 + (alpha * nu) / (2 * (m - 1))\n",
    "\n",
    "print(alpha, m, nu, lam)"
   ]
  },
  {
   "cell_type": "code",
   "execution_count": 14,
   "metadata": {},
   "outputs": [],
   "source": [
    "class pearson7_gen(rv_continuous):\n",
    "    \"Pearson distribution\"\n",
    "    def _pdf(self, x):\n",
    "        return (1 / (alpha * sc.special.beta(m - 0.5, 0.5))\n",
    "            * (1 + ((x-lam)/alpha)**2)**-alpha\n",
    "        )"
   ]
  },
  {
   "cell_type": "code",
   "execution_count": 15,
   "metadata": {},
   "outputs": [
    {
     "data": {
      "text/plain": [
       "[<matplotlib.lines.Line2D at 0x7f838e1ef520>]"
      ]
     },
     "execution_count": 15,
     "metadata": {},
     "output_type": "execute_result"
    },
    {
     "data": {
      "image/png": "[encoded data removed]",
      "text/plain": [
       "<Figure size 432x288 with 1 Axes>"
      ]
     },
     "metadata": {
      "needs_background": "light"
     },
     "output_type": "display_data"
    }
   ],
   "source": [
    "pearson7 = pearson7_gen()\n",
    "plt.plot(np.linspace(-4,4,100), pearson7.pdf(np.linspace(-4,4,100)))\n"
   ]
  },
  {
   "cell_type": "markdown",
   "metadata": {},
   "source": [
    "These are probably floating point errors in the integrand--note how far off even the mean is (which analytically is clearly 0)."
   ]
  },
  {
   "cell_type": "markdown",
   "metadata": {},
   "source": []
  }
 ],
 "metadata": {
  "interpreter": {
   "hash": "7233514a4c16cca30840dbaad253df96b235ab509c130bc0bdee2b5ec0175d73"
  },
  "kernelspec": {
   "display_name": "Python 3 (ipykernel)",
   "language": "python",
   "name": "python3"
  },
  "language_info": {
   "codemirror_mode": {
    "name": "ipython",
    "version": 3
   },
   "file_extension": ".py",
   "mimetype": "text/x-python",
   "name": "python",
   "nbconvert_exporter": "python",
   "pygments_lexer": "ipython3",
   "version": "3.9.13"
  }
 },
 "nbformat": 4,
 "nbformat_minor": 4
}
