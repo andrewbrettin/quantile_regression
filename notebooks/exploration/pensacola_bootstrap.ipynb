{
 "cells": [
  {
   "cell_type": "code",
   "execution_count": 1,
   "metadata": {},
   "outputs": [],
   "source": [
    "import numpy as np\n",
    "import pandas as pd\n",
    "from scipy import linalg\n",
    "import matplotlib.pyplot as plt\n",
    "\n",
    "import os\n",
    "import sys\n",
    "sys.path.append('..')\n",
    "import attrs, utils\n",
    "\n",
    "from datetime import datetime\n",
    "\n",
    "DATA_PATH = attrs.DATA_PATH"
   ]
  },
  {
   "cell_type": "markdown",
   "metadata": {},
   "source": [
    "Set path for data"
   ]
  },
  {
   "cell_type": "code",
   "execution_count": 2,
   "metadata": {},
   "outputs": [],
   "source": [
    "block_bootstrap_samples = np.load(os.path.join(DATA_PATH, 'bootstrapped_pensacola_JJASON.npy'))"
   ]
  },
  {
   "cell_type": "markdown",
   "metadata": {},
   "source": [
    "Quantiles to compute"
   ]
  },
  {
   "cell_type": "code",
   "execution_count": 3,
   "metadata": {},
   "outputs": [],
   "source": [
    "qs = np.arange(0.05, 1, 0.05)\n",
    "N = np.shape(block_bootstrap_samples)[0]    # Number of bootstrap samples"
   ]
  },
  {
   "cell_type": "markdown",
   "metadata": {},
   "source": [
    "Create bootstrap matrix: `B[i,j]` is the bootstrapped slope of the *i*th sample, *j*th quantile (units mm/day).\n",
    "\n",
    "Runtime is about 10 mins on my laptop. Saved B for later"
   ]
  },
  {
   "cell_type": "code",
   "execution_count": 15,
   "metadata": {},
   "outputs": [],
   "source": [
    "\n",
    "B = np.empty((N, len(qs)))    # Initialize matrix\n",
    "\n",
    "xs = np.arange(np.shape(block_bootstrap_samples)[1])    # Time vector\n",
    "\n",
    "# Populate quantile regression matrix\n",
    "for i in range(N):\n",
    "    for j, q in enumerate(qs):\n",
    "        ys = block_bootstrap_samples[i, :]\n",
    "        B[i, j] = utils.q_regression(xs, ys, q)[1]\n",
    "\n",
    "np.save(os.path.join(DATA_PATH, 'pensacola_bootstrap_slopes.npy'), B)"
   ]
  },
  {
   "cell_type": "markdown",
   "metadata": {},
   "source": [
    "Load bootstrap slopes"
   ]
  },
  {
   "cell_type": "code",
   "execution_count": 4,
   "metadata": {},
   "outputs": [],
   "source": [
    "B = np.load(os.path.join(DATA_PATH, 'pensacola_bootstrap_slopes.npy'))"
   ]
  },
  {
   "cell_type": "markdown",
   "metadata": {},
   "source": [
    "Compute coefficient matrix using legendre basis functions\n",
    "* `C[i, j]` is the coefficient of the *j*th basis function ($c_j$) for the *i*th bootstrapped sample."
   ]
  },
  {
   "cell_type": "code",
   "execution_count": 8,
   "metadata": {},
   "outputs": [
    {
     "data": {
      "text/plain": [
       "array([[ 1.78442672e-03,  4.19159726e-03,  2.93769844e-03,\n",
       "        -7.22319109e-04],\n",
       "       [-1.03795765e-03,  2.23322501e-03,  4.44327255e-03,\n",
       "         4.52826431e-05],\n",
       "       [ 4.46943774e-03,  3.96675784e-03,  2.14948399e-03,\n",
       "        -4.83585579e-06]])"
      ]
     },
     "execution_count": 8,
     "metadata": {},
     "output_type": "execute_result"
    }
   ],
   "source": [
    "# From bootstrapped matrix, compute coefficient matrix using legendre basis functions\n",
    "C = np.zeros((N, 4))\n",
    "A = utils.compute_basis_matrix('legendre')\n",
    "\n",
    "for i in range(N):\n",
    "    C[i, :] = linalg.lstsq(A, B[i, :])[0]\n",
    "\n",
    "# First few samples\n",
    "C[0:3,:]"
   ]
  },
  {
   "cell_type": "markdown",
   "metadata": {},
   "source": [
    "Create 95% significance intervals:\n",
    "* `significance_intervals[i]` is the significance interval for the ith moment coefficient."
   ]
  },
  {
   "cell_type": "code",
   "execution_count": 9,
   "metadata": {},
   "outputs": [],
   "source": [
    "significance_intervals = [\n",
    "    pd.Interval(np.quantile(C[:, j], 0.025), np.quantile(C[:, j], 0.975),)\n",
    "    for j in range(4)\n",
    "]"
   ]
  },
  {
   "cell_type": "markdown",
   "metadata": {},
   "source": [
    "Compute coefficients for the true timeseries (not block bootstrapped). Plots of projection onto legendre basis"
   ]
  },
  {
   "cell_type": "code",
   "execution_count": 11,
   "metadata": {},
   "outputs": [
    {
     "name": "stdout",
     "output_type": "stream",
     "text": [
      "[8.76780449e-03 1.15569198e-03 1.11372121e-03 6.16014218e-05]\n",
      "[0.968 0.017 0.016 0.   ]\n"
     ]
    },
    {
     "data": {
      "image/png": "[encoded data removed]",
      "text/plain": [
       "<Figure size 432x288 with 1 Axes>"
      ]
     },
     "metadata": {
      "needs_background": "light"
     },
     "output_type": "display_data"
    }
   ],
   "source": [
    "# Coefficients for observed quantile slopes\n",
    "\n",
    "bootstrap_path = os.path.join(DATA_PATH, 'slopes_pensacola_JJASON')\n",
    "\n",
    "s = np.empty(19)    # Slope for each quantile\n",
    "for i, q in enumerate(qs):\n",
    "    s[i] = np.load(os.path.join(bootstrap_path, 'slope_q_{:.2}.npy'.format(q))).item()\n",
    "coeffs = linalg.lstsq(A, s)[0]\n",
    "coeffs\n",
    "\n",
    "# Plotting BS to see least squares solution\n",
    "plt.plot(qs, s, ls='', marker='x', label='quantile slopes')\n",
    "plt.ylim(0, None)\n",
    "plt.xlabel('q')\n",
    "plt.ylabel('Slope of quantile [mm/day]')\n",
    "plt.plot(qs, A @ coeffs, label='projection onto legendre basis')\n",
    "plt.legend();\n",
    "\n",
    "print(coeffs)\n",
    "weights = coeffs**2 / linalg.norm(coeffs)**2\n",
    "print(np.array2string(weights, precision=3, suppress_small=True))"
   ]
  },
  {
   "cell_type": "markdown",
   "metadata": {},
   "source": [
    "Compute significances\n",
    "`sigs` : list of booleans which are T/F depending on whether the coefficients are in the significance ranges"
   ]
  },
  {
   "cell_type": "code",
   "execution_count": 12,
   "metadata": {},
   "outputs": [
    {
     "data": {
      "text/plain": [
       "[True, False, False, False]"
      ]
     },
     "execution_count": 12,
     "metadata": {},
     "output_type": "execute_result"
    }
   ],
   "source": [
    "# Compute significances\n",
    "sigs = [coeffs[i] not in significance_intervals[i] for i in range(4)]\n",
    "sigs"
   ]
  },
  {
   "cell_type": "markdown",
   "metadata": {},
   "source": [
    "Looks like only the coefficient for the mean is significant, so let's plot histograms of the bootstrapped coefficients and see whether the true coefficients reside in the 95% significance range."
   ]
  },
  {
   "cell_type": "code",
   "execution_count": 13,
   "metadata": {},
   "outputs": [
    {
     "data": {
      "image/png": "[encoded data removed]",
      "text/plain": [
       "<Figure size 1152x576 with 4 Axes>"
      ]
     },
     "metadata": {
      "needs_background": "light"
     },
     "output_type": "display_data"
    }
   ],
   "source": [
    "fig, axes = plt.subplots(figsize=(16,8), nrows=2, ncols=2)\n",
    "axes = axes.ravel()\n",
    "for i in range(4):\n",
    "     axes[i].hist(C[:,i], bins=50, label='bootstrapped {} slopes'.format(attrs.moments[i]));\n",
    "     axes[i].vlines(coeffs[i], 0, 75, color='r', label='basis coefficient')\n",
    "     axes[i].fill_between([significance_intervals[i].left, significance_intervals[i].right],\n",
    "          75, alpha=0.3, color=(0.7,0.7,0.7), label=r'$2\\sigma$-interval')\n",
    "     axes[i].legend(bbox_to_anchor=(1,0.5));\n",
    "\n",
    "fig.tight_layout()"
   ]
  },
  {
   "cell_type": "markdown",
   "metadata": {},
   "source": [
    "$v \\approx c_1 v_1 + c_2 v_2 + c_3 v_3 + c_4 v_4$"
   ]
  },
  {
   "cell_type": "markdown",
   "metadata": {},
   "source": []
  }
 ],
 "metadata": {
  "interpreter": {
   "hash": "da8ab1c299e7bd3c0091c605c3451c395823697321a3620d0bc43fa5e0c60c97"
  },
  "kernelspec": {
   "display_name": "Python 3.8.5 64-bit ('pangeo': conda)",
   "name": "python3"
  },
  "language_info": {
   "codemirror_mode": {
    "name": "ipython",
    "version": 3
   },
   "file_extension": ".py",
   "mimetype": "text/x-python",
   "name": "python",
   "nbconvert_exporter": "python",
   "pygments_lexer": "ipython3",
   "version": "3.8.5"
  },
  "orig_nbformat": 4
 },
 "nbformat": 4,
 "nbformat_minor": 2
}
